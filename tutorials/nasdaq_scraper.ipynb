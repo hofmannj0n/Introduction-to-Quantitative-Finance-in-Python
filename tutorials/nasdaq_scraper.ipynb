{
  "nbformat": 4,
  "nbformat_minor": 0,
  "metadata": {
    "colab": {
      "provenance": []
    },
    "kernelspec": {
      "name": "python3",
      "display_name": "Python 3"
    },
    "language_info": {
      "name": "python"
    }
  },
  "cells": [
    {
      "cell_type": "code",
      "execution_count": 2,
      "metadata": {
        "colab": {
          "base_uri": "https://localhost:8080/"
        },
        "id": "10OrUVANktPS",
        "outputId": "a0bbf781-14a3-49c7-86d8-b7d077da9e8c"
      },
      "outputs": [
        {
          "output_type": "stream",
          "name": "stdout",
          "text": [
            "Highest Opening Price: 53.11\n",
            "Lowest Opening Price: 34.0\n",
            "Largest Change in One Day: 2.8100000000000023\n",
            "Largest Change Between Two Days: 19.03\n",
            "Average Daily Trading Volume: 89124.33725490196\n",
            "Median Trading Volume: 76286.0\n"
          ]
        }
      ],
      "source": [
        "import requests\n",
        "import json\n",
        "import os\n",
        "from dotenv import load_dotenv\n",
        "\n",
        "load_dotenv()\n",
        "API_KEY = os.getenv('api_key')\n",
        "\n",
        "#  API call to retrieve data for the whole year 2017\n",
        "url = f\"https://data.nasdaq.com/api/v3/datasets/FSE/AFX_X/data.json?api_key={API_KEY}&start_date=2017-01-01&end_date=2017-12-31\"\n",
        "\n",
        "response = requests.get(url)\n",
        "data = response.json()\n",
        "\n",
        "# Convert JSON to dict\n",
        "data_dict = json.loads(json.dumps(data))\n",
        "\n",
        "# Extract data \n",
        "stock_data = data_dict['dataset_data']['data']\n",
        "\n",
        "# Calculate the highest and lowest opening prices\n",
        "opening_prices = [day[1] for day in stock_data if day[1] is not None]\n",
        "highest_opening_price = max(opening_prices)\n",
        "lowest_opening_price = min(opening_prices)\n",
        "\n",
        "# Calculate the largest change in any one day \n",
        "price_changes = [day[2] - day[3] for day in stock_data if day[2] is not None and day[3] is not None]\n",
        "largest_change_in_one_day = max(price_changes)\n",
        "\n",
        "# Calculate the largest change between any two days \n",
        "closing_prices = [day[4] for day in stock_data if day[4] is not None]\n",
        "largest_change_between_two_days = max(closing_prices) - min(closing_prices)\n",
        "\n",
        "# Calculate the average daily trading volume\n",
        "trading_volumes = [day[6] for day in stock_data if day[6] is not None]\n",
        "average_trading_volume = sum(trading_volumes) / len(trading_volumes)\n",
        "\n",
        "# Calculate the median trading volume\n",
        "def calculate_median(data):\n",
        "    sorted_data = sorted(data)\n",
        "    n = len(sorted_data)\n",
        "    if n % 2 == 0:\n",
        "        median = (sorted_data[n // 2] + sorted_data[n // 2 - 1]) / 2\n",
        "    else:\n",
        "        median = sorted_data[n // 2]\n",
        "    return median\n",
        "\n",
        "median_trading_volume = calculate_median(trading_volumes)\n",
        "\n",
        "print(\"Highest Opening Price:\", highest_opening_price)\n",
        "print(\"Lowest Opening Price:\", lowest_opening_price)\n",
        "print(\"Largest Change in One Day:\", largest_change_in_one_day)\n",
        "print(\"Largest Change Between Two Days:\", largest_change_between_two_days)\n",
        "print(\"Average Daily Trading Volume:\", average_trading_volume)\n",
        "print(\"Median Trading Volume:\", median_trading_volume)\n"
      ]
    },
    {
      "cell_type": "code",
      "source": [
        "pip install python-dotenv\n"
      ],
      "metadata": {
        "id": "NP_VJuCBstgk",
        "colab": {
          "base_uri": "https://localhost:8080/"
        },
        "outputId": "a24f0f5b-33cf-4f12-9079-902e0e25160f"
      },
      "execution_count": 1,
      "outputs": [
        {
          "output_type": "stream",
          "name": "stdout",
          "text": [
            "Looking in indexes: https://pypi.org/simple, https://us-python.pkg.dev/colab-wheels/public/simple/\n",
            "Collecting python-dotenv\n",
            "  Downloading python_dotenv-1.0.0-py3-none-any.whl (19 kB)\n",
            "Installing collected packages: python-dotenv\n",
            "Successfully installed python-dotenv-1.0.0\n"
          ]
        }
      ]
    },
    {
      "cell_type": "code",
      "source": [],
      "metadata": {
        "id": "eMxWO7Z_s6Da"
      },
      "execution_count": null,
      "outputs": []
    }
  ]
}